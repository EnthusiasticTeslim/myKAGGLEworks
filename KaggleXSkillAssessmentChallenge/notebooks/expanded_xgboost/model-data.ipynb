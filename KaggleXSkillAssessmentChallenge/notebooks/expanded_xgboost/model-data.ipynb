{
 "cells": [
  {
   "cell_type": "code",
   "execution_count": 2,
   "metadata": {},
   "outputs": [],
   "source": [
    "import os\n",
    "import pandas as pd\n",
    "import numpy as np\n",
    "import matplotlib.pyplot as plt\n",
    "import seaborn as sns\n",
    "\n",
    "%matplotlib inline\n",
    "%load_ext autoreload\n",
    "%autoreload 2"
   ]
  },
  {
   "cell_type": "markdown",
   "metadata": {},
   "source": [
    "## Analyze Data"
   ]
  },
  {
   "cell_type": "code",
   "execution_count": 3,
   "metadata": {},
   "outputs": [
    {
     "name": "stdout",
     "output_type": "stream",
     "text": [
      "ls: ../data/: No such file or directory\n"
     ]
    }
   ],
   "source": [
    "!ls -lrt ../../data/"
   ]
  },
  {
   "cell_type": "code",
   "execution_count": 4,
   "metadata": {},
   "outputs": [],
   "source": [
    "data = pd.read_csv('../../data/train.csv')"
   ]
  },
  {
   "cell_type": "code",
   "execution_count": 5,
   "metadata": {},
   "outputs": [
    {
     "data": {
      "text/plain": [
       "Index(['id', 'brand', 'model', 'model_year', 'milage', 'fuel_type', 'engine',\n",
       "       'transmission', 'ext_col', 'int_col', 'accident', 'clean_title',\n",
       "       'price'],\n",
       "      dtype='object')"
      ]
     },
     "execution_count": 5,
     "metadata": {},
     "output_type": "execute_result"
    }
   ],
   "source": [
    "# columns in data\n",
    "data.columns"
   ]
  },
  {
   "cell_type": "code",
   "execution_count": 6,
   "metadata": {},
   "outputs": [],
   "source": [
    "# drop id column\n",
    "data.drop('id', axis=1, inplace=True)"
   ]
  },
  {
   "cell_type": "code",
   "execution_count": 7,
   "metadata": {},
   "outputs": [
    {
     "data": {
      "text/plain": [
       "brand           object\n",
       "model           object\n",
       "model_year       int64\n",
       "milage           int64\n",
       "fuel_type       object\n",
       "engine          object\n",
       "transmission    object\n",
       "ext_col         object\n",
       "int_col         object\n",
       "accident        object\n",
       "clean_title     object\n",
       "price            int64\n",
       "dtype: object"
      ]
     },
     "execution_count": 7,
     "metadata": {},
     "output_type": "execute_result"
    }
   ],
   "source": [
    "# get the types of columns\n",
    "data.dtypes"
   ]
  },
  {
   "cell_type": "code",
   "execution_count": 8,
   "metadata": {},
   "outputs": [
    {
     "data": {
      "text/plain": [
       "brand           0\n",
       "model           0\n",
       "model_year      0\n",
       "milage          0\n",
       "fuel_type       0\n",
       "engine          0\n",
       "transmission    0\n",
       "ext_col         0\n",
       "int_col         0\n",
       "accident        0\n",
       "clean_title     0\n",
       "price           0\n",
       "dtype: int64"
      ]
     },
     "execution_count": 8,
     "metadata": {},
     "output_type": "execute_result"
    }
   ],
   "source": [
    "# check if it has any missing values\n",
    "data.isnull().sum()"
   ]
  },
  {
   "cell_type": "code",
   "execution_count": 9,
   "metadata": {},
   "outputs": [
    {
     "data": {
      "text/html": [
       "<div>\n",
       "<style scoped>\n",
       "    .dataframe tbody tr th:only-of-type {\n",
       "        vertical-align: middle;\n",
       "    }\n",
       "\n",
       "    .dataframe tbody tr th {\n",
       "        vertical-align: top;\n",
       "    }\n",
       "\n",
       "    .dataframe thead th {\n",
       "        text-align: right;\n",
       "    }\n",
       "</style>\n",
       "<table border=\"1\" class=\"dataframe\">\n",
       "  <thead>\n",
       "    <tr style=\"text-align: right;\">\n",
       "      <th></th>\n",
       "      <th>model_year</th>\n",
       "      <th>milage</th>\n",
       "      <th>price</th>\n",
       "    </tr>\n",
       "  </thead>\n",
       "  <tbody>\n",
       "    <tr>\n",
       "      <th>count</th>\n",
       "      <td>54273.000000</td>\n",
       "      <td>54273.000000</td>\n",
       "      <td>5.427300e+04</td>\n",
       "    </tr>\n",
       "    <tr>\n",
       "      <th>mean</th>\n",
       "      <td>2015.091979</td>\n",
       "      <td>72746.175667</td>\n",
       "      <td>3.921844e+04</td>\n",
       "    </tr>\n",
       "    <tr>\n",
       "      <th>std</th>\n",
       "      <td>5.588909</td>\n",
       "      <td>50469.490448</td>\n",
       "      <td>7.282634e+04</td>\n",
       "    </tr>\n",
       "    <tr>\n",
       "      <th>min</th>\n",
       "      <td>1974.000000</td>\n",
       "      <td>100.000000</td>\n",
       "      <td>2.000000e+03</td>\n",
       "    </tr>\n",
       "    <tr>\n",
       "      <th>25%</th>\n",
       "      <td>2012.000000</td>\n",
       "      <td>32268.000000</td>\n",
       "      <td>1.550000e+04</td>\n",
       "    </tr>\n",
       "    <tr>\n",
       "      <th>50%</th>\n",
       "      <td>2016.000000</td>\n",
       "      <td>66107.000000</td>\n",
       "      <td>2.800000e+04</td>\n",
       "    </tr>\n",
       "    <tr>\n",
       "      <th>75%</th>\n",
       "      <td>2019.000000</td>\n",
       "      <td>102000.000000</td>\n",
       "      <td>4.500000e+04</td>\n",
       "    </tr>\n",
       "    <tr>\n",
       "      <th>max</th>\n",
       "      <td>2024.000000</td>\n",
       "      <td>405000.000000</td>\n",
       "      <td>2.954083e+06</td>\n",
       "    </tr>\n",
       "  </tbody>\n",
       "</table>\n",
       "</div>"
      ],
      "text/plain": [
       "         model_year         milage         price\n",
       "count  54273.000000   54273.000000  5.427300e+04\n",
       "mean    2015.091979   72746.175667  3.921844e+04\n",
       "std        5.588909   50469.490448  7.282634e+04\n",
       "min     1974.000000     100.000000  2.000000e+03\n",
       "25%     2012.000000   32268.000000  1.550000e+04\n",
       "50%     2016.000000   66107.000000  2.800000e+04\n",
       "75%     2019.000000  102000.000000  4.500000e+04\n",
       "max     2024.000000  405000.000000  2.954083e+06"
      ]
     },
     "execution_count": 9,
     "metadata": {},
     "output_type": "execute_result"
    }
   ],
   "source": [
    "# for the non-object columns, get the summary statistics\n",
    "data.describe()"
   ]
  },
  {
   "cell_type": "code",
   "execution_count": 10,
   "metadata": {},
   "outputs": [
    {
     "data": {
      "text/plain": [
       "brand             53\n",
       "model           1827\n",
       "fuel_type          7\n",
       "engine          1061\n",
       "transmission      46\n",
       "ext_col          260\n",
       "int_col          124\n",
       "accident           2\n",
       "clean_title        1\n",
       "dtype: int64"
      ]
     },
     "execution_count": 10,
     "metadata": {},
     "output_type": "execute_result"
    }
   ],
   "source": [
    "# get the unique values in the object columns\n",
    "data.select_dtypes(include=['object']).apply(pd.Series.nunique)"
   ]
  },
  {
   "cell_type": "code",
   "execution_count": 11,
   "metadata": {},
   "outputs": [
    {
     "data": {
      "text/plain": [
       "<Axes: xlabel='price', ylabel='Count'>"
      ]
     },
     "execution_count": 11,
     "metadata": {},
     "output_type": "execute_result"
    },
    {
     "data": {
      "image/png": "[encoded data removed]",
      "text/plain": [
       "<Figure size 640x480 with 1 Axes>"
      ]
     },
     "metadata": {},
     "output_type": "display_data"
    }
   ],
   "source": [
    "# show the distribution of the target variable\n",
    "sns.histplot(data['price'], kde=True, label='price')"
   ]
  },
  {
   "cell_type": "code",
   "execution_count": 13,
   "metadata": {},
   "outputs": [
    {
     "name": "stdout",
     "output_type": "stream",
     "text": [
      "% in 0 < price < 0.5e6: 99.84%\n",
      "% in 0.5e6 < price < 1e6: 0.11%\n",
      "% in 1e6 < price < 1.5e6: 0.00%\n",
      "% in 1.5e6 < price < 2e6: 0.03%\n",
      "% in 2e6 < price < 2.5e6: 0.00%\n",
      "% in 2.5e6 < price < 3e6: 0.03%\n"
     ]
    }
   ],
   "source": [
    "# get percentage of each category in the object columns\n",
    "# print ( 0 < price < 0.5e6, 0.5e6 < price < 1e6, 1e6 < price < 1.5e6, \n",
    "# 1.5e6 < price < 2e6, 2.5e6 < price < 3e6\n",
    "\n",
    "print(f'% in 0 < price < 0.5e6: {100 * data[data[\"price\"] < 0.5e6].shape[0] / data.shape[0]:.2f}%')\n",
    "print(f'% in 0.5e6 < price < 1e6: {100 * data[(data[\"price\"] > 0.5e6) & (data[\"price\"] < 1e6)].shape[0] / data.shape[0]:.2f}%')\n",
    "print(f'% in 1e6 < price < 1.5e6: {100 * data[(data[\"price\"] > 1e6) & (data[\"price\"] < 1.5e6)].shape[0] / data.shape[0]:.2f}%')\n",
    "print(f'% in 1.5e6 < price < 2e6: {100 * data[(data[\"price\"] > 1.5e6) & (data[\"price\"] < 2e6)].shape[0] / data.shape[0]:.2f}%')\n",
    "print(f'% in 2e6 < price < 2.5e6: {100 * data[(data[\"price\"] > 2e6) & (data[\"price\"] < 2.5e6)].shape[0] / data.shape[0]:.2f}%')\n",
    "print(f'% in 2.5e6 < price < 3e6: {100 * data[(data[\"price\"] > 2.5e6) & (data[\"price\"] < 3e6)].shape[0] / data.shape[0]:.2f}%')"
   ]
  },
  {
   "cell_type": "code",
   "execution_count": 14,
   "metadata": {},
   "outputs": [
    {
     "data": {
      "text/html": [
       "<div>\n",
       "<style scoped>\n",
       "    .dataframe tbody tr th:only-of-type {\n",
       "        vertical-align: middle;\n",
       "    }\n",
       "\n",
       "    .dataframe tbody tr th {\n",
       "        vertical-align: top;\n",
       "    }\n",
       "\n",
       "    .dataframe thead th {\n",
       "        text-align: right;\n",
       "    }\n",
       "</style>\n",
       "<table border=\"1\" class=\"dataframe\">\n",
       "  <thead>\n",
       "    <tr style=\"text-align: right;\">\n",
       "      <th></th>\n",
       "      <th>model_year</th>\n",
       "      <th>milage</th>\n",
       "      <th>price</th>\n",
       "    </tr>\n",
       "  </thead>\n",
       "  <tbody>\n",
       "    <tr>\n",
       "      <th>count</th>\n",
       "      <td>54184.000000</td>\n",
       "      <td>54184.000000</td>\n",
       "      <td>54184.000000</td>\n",
       "    </tr>\n",
       "    <tr>\n",
       "      <th>mean</th>\n",
       "      <td>2015.088605</td>\n",
       "      <td>72796.226377</td>\n",
       "      <td>37198.032076</td>\n",
       "    </tr>\n",
       "    <tr>\n",
       "      <th>std</th>\n",
       "      <td>5.587414</td>\n",
       "      <td>50442.052992</td>\n",
       "      <td>39557.835000</td>\n",
       "    </tr>\n",
       "    <tr>\n",
       "      <th>min</th>\n",
       "      <td>1974.000000</td>\n",
       "      <td>100.000000</td>\n",
       "      <td>2000.000000</td>\n",
       "    </tr>\n",
       "    <tr>\n",
       "      <th>25%</th>\n",
       "      <td>2012.000000</td>\n",
       "      <td>32437.000000</td>\n",
       "      <td>15500.000000</td>\n",
       "    </tr>\n",
       "    <tr>\n",
       "      <th>50%</th>\n",
       "      <td>2016.000000</td>\n",
       "      <td>66200.000000</td>\n",
       "      <td>28000.000000</td>\n",
       "    </tr>\n",
       "    <tr>\n",
       "      <th>75%</th>\n",
       "      <td>2019.000000</td>\n",
       "      <td>102000.000000</td>\n",
       "      <td>45000.000000</td>\n",
       "    </tr>\n",
       "    <tr>\n",
       "      <th>max</th>\n",
       "      <td>2024.000000</td>\n",
       "      <td>405000.000000</td>\n",
       "      <td>491836.000000</td>\n",
       "    </tr>\n",
       "  </tbody>\n",
       "</table>\n",
       "</div>"
      ],
      "text/plain": [
       "         model_year         milage          price\n",
       "count  54184.000000   54184.000000   54184.000000\n",
       "mean    2015.088605   72796.226377   37198.032076\n",
       "std        5.587414   50442.052992   39557.835000\n",
       "min     1974.000000     100.000000    2000.000000\n",
       "25%     2012.000000   32437.000000   15500.000000\n",
       "50%     2016.000000   66200.000000   28000.000000\n",
       "75%     2019.000000  102000.000000   45000.000000\n",
       "max     2024.000000  405000.000000  491836.000000"
      ]
     },
     "execution_count": 14,
     "metadata": {},
     "output_type": "execute_result"
    }
   ],
   "source": [
    "# drop the rows where price is greater than 0.5e6\n",
    "data = data[data['price'] < 0.5e6]\n",
    "data.describe()"
   ]
  },
  {
   "cell_type": "code",
   "execution_count": 15,
   "metadata": {},
   "outputs": [],
   "source": [
    "# drop price column and map remaining columns to dictionary\n",
    "X_dicts = data.drop('price', axis=1).to_dict(orient='records')\n",
    "y = data['price']"
   ]
  },
  {
   "cell_type": "code",
   "execution_count": 16,
   "metadata": {},
   "outputs": [],
   "source": [
    "# split into train and test\n",
    "from sklearn.model_selection import train_test_split\n",
    "# divide the data into training and test sets (80% train, 20% test)\n",
    "X_train, X_test, y_train, y_test = train_test_split(X_dicts, y, test_size=0.2, random_state=42)\n",
    "# split test set into validation and test sets (10% validation, 10% test)\n",
    "X_test, X_val, y_test, y_val = train_test_split(X_test, y_test, test_size=0.5, random_state=42)"
   ]
  },
  {
   "cell_type": "code",
   "execution_count": 17,
   "metadata": {},
   "outputs": [
    {
     "data": {
      "text/plain": [
       "({'brand': 'Lexus',\n",
       "  'model': 'RX 450h Base',\n",
       "  'model_year': 2013,\n",
       "  'milage': 148377,\n",
       "  'fuel_type': 'Hybrid',\n",
       "  'engine': '245.0HP 3.5L V6 Cylinder Engine Gas/Electric Hybrid',\n",
       "  'transmission': 'A/T',\n",
       "  'ext_col': 'Silver',\n",
       "  'int_col': 'Black',\n",
       "  'accident': 'At least 1 accident or damage reported',\n",
       "  'clean_title': 'Yes'},\n",
       " 11000)"
      ]
     },
     "execution_count": 17,
     "metadata": {},
     "output_type": "execute_result"
    }
   ],
   "source": [
    "X_train[0], y_train[0]"
   ]
  },
  {
   "cell_type": "markdown",
   "metadata": {},
   "source": [
    "# Vectorize Data"
   ]
  },
  {
   "cell_type": "code",
   "execution_count": 18,
   "metadata": {},
   "outputs": [
    {
     "name": "stdout",
     "output_type": "stream",
     "text": [
      "(43347, 3331) (5418, 3331) (5419, 3331)\n"
     ]
    }
   ],
   "source": [
    "from sklearn.feature_extraction import DictVectorizer\n",
    "\n",
    "dv = DictVectorizer() # transform lists of mappings (dict-like objects) of feature names to feature values into Numpy arrays\n",
    "X_train = dv.fit_transform(X_train)\n",
    "X_test = dv.transform(X_test)\n",
    "X_val = dv.transform(X_val)\n",
    "\n",
    "print(X_train.shape, X_test.shape, X_val.shape)"
   ]
  },
  {
   "cell_type": "markdown",
   "metadata": {},
   "source": [
    "# Hyperparameter Search"
   ]
  },
  {
   "cell_type": "code",
   "execution_count": 19,
   "metadata": {},
   "outputs": [],
   "source": [
    "import mlflow\n",
    "import xgboost as xgb\n",
    "from hyperopt import STATUS_OK, Trials, fmin, hp, tpe\n",
    "from hyperopt.pyll import scope\n",
    "from sklearn.metrics import root_mean_squared_error"
   ]
  },
  {
   "cell_type": "code",
   "execution_count": 20,
   "metadata": {},
   "outputs": [
    {
     "name": "stderr",
     "output_type": "stream",
     "text": [
      "2024/05/31 15:30:20 INFO mlflow.store.db.utils: Creating initial MLflow database tables...\n",
      "2024/05/31 15:30:20 INFO mlflow.store.db.utils: Updating database tables\n",
      "INFO  [alembic.runtime.migration] Context impl SQLiteImpl.\n",
      "INFO  [alembic.runtime.migration] Will assume non-transactional DDL.\n",
      "INFO  [alembic.runtime.migration] Running upgrade  -> 451aebb31d03, add metric step\n",
      "INFO  [alembic.runtime.migration] Running upgrade 451aebb31d03 -> 90e64c465722, migrate user column to tags\n",
      "INFO  [alembic.runtime.migration] Running upgrade 90e64c465722 -> 181f10493468, allow nulls for metric values\n",
      "INFO  [alembic.runtime.migration] Running upgrade 181f10493468 -> df50e92ffc5e, Add Experiment Tags Table\n",
      "INFO  [alembic.runtime.migration] Running upgrade df50e92ffc5e -> 7ac759974ad8, Update run tags with larger limit\n",
      "INFO  [alembic.runtime.migration] Running upgrade 7ac759974ad8 -> 89d4b8295536, create latest metrics table\n",
      "INFO  [89d4b8295536_create_latest_metrics_table_py] Migration complete!\n",
      "INFO  [alembic.runtime.migration] Running upgrade 89d4b8295536 -> 2b4d017a5e9b, add model registry tables to db\n",
      "INFO  [2b4d017a5e9b_add_model_registry_tables_to_db_py] Adding registered_models and model_versions tables to database.\n",
      "INFO  [2b4d017a5e9b_add_model_registry_tables_to_db_py] Migration complete!\n",
      "INFO  [alembic.runtime.migration] Running upgrade 2b4d017a5e9b -> cfd24bdc0731, Update run status constraint with killed\n",
      "INFO  [alembic.runtime.migration] Running upgrade cfd24bdc0731 -> 0a8213491aaa, drop_duplicate_killed_constraint\n",
      "INFO  [alembic.runtime.migration] Running upgrade 0a8213491aaa -> 728d730b5ebd, add registered model tags table\n",
      "INFO  [alembic.runtime.migration] Running upgrade 728d730b5ebd -> 27a6a02d2cf1, add model version tags table\n",
      "INFO  [alembic.runtime.migration] Running upgrade 27a6a02d2cf1 -> 84291f40a231, add run_link to model_version\n",
      "INFO  [alembic.runtime.migration] Running upgrade 84291f40a231 -> a8c4a736bde6, allow nulls for run_id\n",
      "INFO  [alembic.runtime.migration] Running upgrade a8c4a736bde6 -> 39d1c3be5f05, add_is_nan_constraint_for_metrics_tables_if_necessary\n",
      "INFO  [alembic.runtime.migration] Running upgrade 39d1c3be5f05 -> c48cb773bb87, reset_default_value_for_is_nan_in_metrics_table_for_mysql\n",
      "INFO  [alembic.runtime.migration] Running upgrade c48cb773bb87 -> bd07f7e963c5, create index on run_uuid\n",
      "INFO  [alembic.runtime.migration] Running upgrade bd07f7e963c5 -> 0c779009ac13, add deleted_time field to runs table\n",
      "INFO  [alembic.runtime.migration] Running upgrade 0c779009ac13 -> cc1f77228345, change param value length to 500\n",
      "INFO  [alembic.runtime.migration] Running upgrade cc1f77228345 -> 97727af70f4d, Add creation_time and last_update_time to experiments table\n",
      "INFO  [alembic.runtime.migration] Running upgrade 97727af70f4d -> 3500859a5d39, Add Model Aliases table\n",
      "INFO  [alembic.runtime.migration] Running upgrade 3500859a5d39 -> 7f2a7d5fae7d, add datasets inputs input_tags tables\n",
      "INFO  [alembic.runtime.migration] Running upgrade 7f2a7d5fae7d -> 2d6e25af4d3e, increase max param val length from 500 to 8000\n",
      "INFO  [alembic.runtime.migration] Running upgrade 2d6e25af4d3e -> acf3f17fdcc7, add storage location field to model versions\n",
      "INFO  [alembic.runtime.migration] Context impl SQLiteImpl.\n",
      "INFO  [alembic.runtime.migration] Will assume non-transactional DDL.\n",
      "2024/05/31 15:30:20 INFO mlflow.tracking.fluent: Experiment with name 'hyperopt' does not exist. Creating a new experiment.\n"
     ]
    },
    {
     "data": {
      "text/plain": [
       "<Experiment: artifact_location='/Users/gbemidebe/Documents/GitHub/KaggleXSkillAssessmentChallenge/notebooks/expanded_xgboost/mlruns/1', creation_time=1717187420228, experiment_id='1', last_update_time=1717187420228, lifecycle_stage='active', name='hyperopt', tags={}>"
      ]
     },
     "execution_count": 20,
     "metadata": {},
     "output_type": "execute_result"
    }
   ],
   "source": [
    "mlflow.set_tracking_uri(\"sqlite:///mlflow.db\")\n",
    "mlflow.set_experiment(\"hyperopt\")"
   ]
  },
  {
   "cell_type": "code",
   "execution_count": 21,
   "metadata": {},
   "outputs": [],
   "source": [
    "train = xgb.DMatrix(X_train, label=y_train)\n",
    "valid = xgb.DMatrix(X_val, label=y_val)\n",
    "\n",
    "def objective(params):\n",
    "    with mlflow.start_run():\n",
    "        mlflow.set_tag(\"model\", \"xgboost\")\n",
    "        mlflow.log_params(params)\n",
    "        booster = xgb.train(\n",
    "            params=params,\n",
    "            dtrain=train,\n",
    "            num_boost_round=1000,\n",
    "            evals=[(valid, 'validation')],\n",
    "            early_stopping_rounds=50, verbose_eval=False\n",
    "        )\n",
    "        y_pred = booster.predict(valid)\n",
    "        rmse = root_mean_squared_error(y_val, y_pred)\n",
    "        mlflow.log_metric(\"rmse\", rmse)\n",
    "\n",
    "    return {'loss': rmse, 'status': STATUS_OK}"
   ]
  },
  {
   "cell_type": "code",
   "execution_count": 22,
   "metadata": {},
   "outputs": [
    {
     "name": "stdout",
     "output_type": "stream",
     "text": [
      "100%|██████████| 100/100 [40:23<00:00, 24.24s/trial, best loss: 32118.923755966607] \n"
     ]
    }
   ],
   "source": [
    "search_space = {\n",
    "    'max_depth': scope.int(hp.quniform('max_depth', 10, 500, 1)),\n",
    "    'learning_rate': hp.loguniform('learning_rate', -3, 0),\n",
    "    'reg_alpha': hp.loguniform('reg_alpha', -5, -1),\n",
    "    'reg_lambda': hp.loguniform('reg_lambda', -6, -1),\n",
    "    'min_child_weight': hp.loguniform('min_child_weight', -1, 3),\n",
    "    'objective': 'reg:squarederror',\n",
    "    'seed': hp.randint('seed', 100000),\n",
    "}\n",
    "\n",
    "best_result = fmin(\n",
    "    fn=objective,\n",
    "    space=search_space,\n",
    "    algo=tpe.suggest,\n",
    "    max_evals=100,\n",
    "    trials=Trials(), \n",
    ")"
   ]
  },
  {
   "cell_type": "code",
   "execution_count": 23,
   "metadata": {},
   "outputs": [
    {
     "data": {
      "text/plain": [
       "{'learning_rate': 0.049924799366491655,\n",
       " 'max_depth': 12.0,\n",
       " 'min_child_weight': 6.983161895125748,\n",
       " 'reg_alpha': 0.09010269395580363,\n",
       " 'reg_lambda': 0.0158680840153632,\n",
       " 'seed': 13932}"
      ]
     },
     "execution_count": 23,
     "metadata": {},
     "output_type": "execute_result"
    }
   ],
   "source": [
    "best_result"
   ]
  },
  {
   "cell_type": "markdown",
   "metadata": {},
   "source": [
    "## Train best Model"
   ]
  },
  {
   "cell_type": "code",
   "execution_count": 24,
   "metadata": {},
   "outputs": [
    {
     "name": "stderr",
     "output_type": "stream",
     "text": [
      "2024/05/31 16:12:55 INFO mlflow.tracking.fluent: Experiment with name 'best_model_xgboost' does not exist. Creating a new experiment.\n",
      "2024/05/31 16:12:58 WARNING mlflow.xgboost: Failed to infer model signature: could not sample data to infer model signature: please ensure that autologging is enabled before constructing the dataset.\n",
      "2024/05/31 16:12:58 WARNING mlflow.utils.autologging_utils: MLflow autologging encountered a warning: \"/Users/gbemidebe/miniconda3/envs/exp-tracking-env/lib/python3.9/site-packages/xgboost/core.py:160: UserWarning: [16:12:58] WARNING: /Users/runner/work/xgboost/xgboost/src/c_api/c_api.cc:1240: Saving into deprecated binary model format, please consider using `json` or `ubj`. Model format will default to JSON in XGBoost 2.2 if not specified.\"\n"
     ]
    },
    {
     "name": "stdout",
     "output_type": "stream",
     "text": [
      "Train RMSE: 27783.48\n",
      "Validation RMSE: 32118.92\n"
     ]
    }
   ],
   "source": [
    "import pickle\n",
    "\n",
    "mlflow.set_experiment(\"best_model_xgboost\")\n",
    "\n",
    "with mlflow.start_run():\n",
    "    \n",
    "    train = xgb.DMatrix(X_train, label=y_train)\n",
    "    valid = xgb.DMatrix(X_val, label=y_val)\n",
    "\n",
    "    mlflow.xgboost.autolog()\n",
    "\n",
    "    # set the best hyperparameters\n",
    "    best_result['max_depth'] = int(best_result['max_depth'])\n",
    "\n",
    "    booster = xgb.train(\n",
    "        params=best_result,\n",
    "        dtrain=train,\n",
    "        num_boost_round=1000,\n",
    "        evals=[(valid, 'validation')],\n",
    "        early_stopping_rounds=50, verbose_eval=False\n",
    "    )\n",
    "\n",
    "    rmse_train = root_mean_squared_error(y_train, booster.predict(train))\n",
    "    rmse_val = root_mean_squared_error(y_val, booster.predict(valid))\n",
    "\n",
    "    print(f\"Train RMSE: {rmse_train:.2f}\")\n",
    "    print(f\"Validation RMSE: {rmse_val:.2f}\")\n",
    "\n",
    "\n",
    "    with open(\"./preprocessor.b\", \"wb\") as f_out:\n",
    "        pickle.dump(dv, f_out)"
   ]
  },
  {
   "cell_type": "markdown",
   "metadata": {},
   "source": [
    "## Test model"
   ]
  },
  {
   "cell_type": "code",
   "execution_count": 25,
   "metadata": {},
   "outputs": [],
   "source": [
    "test_data_orig = pd.read_csv('../../data/test.csv')"
   ]
  },
  {
   "cell_type": "code",
   "execution_count": 26,
   "metadata": {},
   "outputs": [
    {
     "data": {
      "text/html": [
       "<div>\n",
       "<style scoped>\n",
       "    .dataframe tbody tr th:only-of-type {\n",
       "        vertical-align: middle;\n",
       "    }\n",
       "\n",
       "    .dataframe tbody tr th {\n",
       "        vertical-align: top;\n",
       "    }\n",
       "\n",
       "    .dataframe thead th {\n",
       "        text-align: right;\n",
       "    }\n",
       "</style>\n",
       "<table border=\"1\" class=\"dataframe\">\n",
       "  <thead>\n",
       "    <tr style=\"text-align: right;\">\n",
       "      <th></th>\n",
       "      <th>id</th>\n",
       "      <th>brand</th>\n",
       "      <th>model</th>\n",
       "      <th>model_year</th>\n",
       "      <th>milage</th>\n",
       "      <th>fuel_type</th>\n",
       "      <th>engine</th>\n",
       "      <th>transmission</th>\n",
       "      <th>ext_col</th>\n",
       "      <th>int_col</th>\n",
       "      <th>accident</th>\n",
       "      <th>clean_title</th>\n",
       "    </tr>\n",
       "  </thead>\n",
       "  <tbody>\n",
       "    <tr>\n",
       "      <th>0</th>\n",
       "      <td>54273</td>\n",
       "      <td>Mercedes-Benz</td>\n",
       "      <td>E-Class E 350</td>\n",
       "      <td>2014</td>\n",
       "      <td>73000</td>\n",
       "      <td>Gasoline</td>\n",
       "      <td>302.0HP 3.5L V6 Cylinder Engine Gasoline Fuel</td>\n",
       "      <td>A/T</td>\n",
       "      <td>White</td>\n",
       "      <td>Beige</td>\n",
       "      <td>None reported</td>\n",
       "      <td>Yes</td>\n",
       "    </tr>\n",
       "    <tr>\n",
       "      <th>1</th>\n",
       "      <td>54274</td>\n",
       "      <td>Lexus</td>\n",
       "      <td>RX 350 Base</td>\n",
       "      <td>2015</td>\n",
       "      <td>128032</td>\n",
       "      <td>Gasoline</td>\n",
       "      <td>275.0HP 3.5L V6 Cylinder Engine Gasoline Fuel</td>\n",
       "      <td>8-Speed A/T</td>\n",
       "      <td>Silver</td>\n",
       "      <td>Black</td>\n",
       "      <td>None reported</td>\n",
       "      <td>Yes</td>\n",
       "    </tr>\n",
       "    <tr>\n",
       "      <th>2</th>\n",
       "      <td>54275</td>\n",
       "      <td>Mercedes-Benz</td>\n",
       "      <td>C-Class C 300</td>\n",
       "      <td>2015</td>\n",
       "      <td>51983</td>\n",
       "      <td>Gasoline</td>\n",
       "      <td>241.0HP 2.0L 4 Cylinder Engine Gasoline Fuel</td>\n",
       "      <td>7-Speed A/T</td>\n",
       "      <td>Blue</td>\n",
       "      <td>White</td>\n",
       "      <td>None reported</td>\n",
       "      <td>Yes</td>\n",
       "    </tr>\n",
       "    <tr>\n",
       "      <th>3</th>\n",
       "      <td>54276</td>\n",
       "      <td>Land</td>\n",
       "      <td>Rover Range Rover 5.0L Supercharged Autobiogra...</td>\n",
       "      <td>2018</td>\n",
       "      <td>29500</td>\n",
       "      <td>Gasoline</td>\n",
       "      <td>518.0HP 5.0L 8 Cylinder Engine Gasoline Fuel</td>\n",
       "      <td>Transmission w/Dual Shift Mode</td>\n",
       "      <td>White</td>\n",
       "      <td>White</td>\n",
       "      <td>At least 1 accident or damage reported</td>\n",
       "      <td>Yes</td>\n",
       "    </tr>\n",
       "    <tr>\n",
       "      <th>4</th>\n",
       "      <td>54277</td>\n",
       "      <td>BMW</td>\n",
       "      <td>X6 xDrive40i</td>\n",
       "      <td>2020</td>\n",
       "      <td>90000</td>\n",
       "      <td>Gasoline</td>\n",
       "      <td>335.0HP 3.0L Straight 6 Cylinder Engine Gasoli...</td>\n",
       "      <td>8-Speed A/T</td>\n",
       "      <td>White</td>\n",
       "      <td>Black</td>\n",
       "      <td>At least 1 accident or damage reported</td>\n",
       "      <td>Yes</td>\n",
       "    </tr>\n",
       "  </tbody>\n",
       "</table>\n",
       "</div>"
      ],
      "text/plain": [
       "      id          brand                                              model  \\\n",
       "0  54273  Mercedes-Benz                                      E-Class E 350   \n",
       "1  54274          Lexus                                        RX 350 Base   \n",
       "2  54275  Mercedes-Benz                                      C-Class C 300   \n",
       "3  54276           Land  Rover Range Rover 5.0L Supercharged Autobiogra...   \n",
       "4  54277            BMW                                       X6 xDrive40i   \n",
       "\n",
       "   model_year  milage fuel_type  \\\n",
       "0        2014   73000  Gasoline   \n",
       "1        2015  128032  Gasoline   \n",
       "2        2015   51983  Gasoline   \n",
       "3        2018   29500  Gasoline   \n",
       "4        2020   90000  Gasoline   \n",
       "\n",
       "                                              engine  \\\n",
       "0      302.0HP 3.5L V6 Cylinder Engine Gasoline Fuel   \n",
       "1      275.0HP 3.5L V6 Cylinder Engine Gasoline Fuel   \n",
       "2       241.0HP 2.0L 4 Cylinder Engine Gasoline Fuel   \n",
       "3       518.0HP 5.0L 8 Cylinder Engine Gasoline Fuel   \n",
       "4  335.0HP 3.0L Straight 6 Cylinder Engine Gasoli...   \n",
       "\n",
       "                     transmission ext_col int_col  \\\n",
       "0                             A/T   White   Beige   \n",
       "1                     8-Speed A/T  Silver   Black   \n",
       "2                     7-Speed A/T    Blue   White   \n",
       "3  Transmission w/Dual Shift Mode   White   White   \n",
       "4                     8-Speed A/T   White   Black   \n",
       "\n",
       "                                 accident clean_title  \n",
       "0                           None reported         Yes  \n",
       "1                           None reported         Yes  \n",
       "2                           None reported         Yes  \n",
       "3  At least 1 accident or damage reported         Yes  \n",
       "4  At least 1 accident or damage reported         Yes  "
      ]
     },
     "execution_count": 26,
     "metadata": {},
     "output_type": "execute_result"
    }
   ],
   "source": [
    "test_data_orig.head()"
   ]
  },
  {
   "cell_type": "code",
   "execution_count": 27,
   "metadata": {},
   "outputs": [
    {
     "data": {
      "text/html": [
       "<div>\n",
       "<style scoped>\n",
       "    .dataframe tbody tr th:only-of-type {\n",
       "        vertical-align: middle;\n",
       "    }\n",
       "\n",
       "    .dataframe tbody tr th {\n",
       "        vertical-align: top;\n",
       "    }\n",
       "\n",
       "    .dataframe thead th {\n",
       "        text-align: right;\n",
       "    }\n",
       "</style>\n",
       "<table border=\"1\" class=\"dataframe\">\n",
       "  <thead>\n",
       "    <tr style=\"text-align: right;\">\n",
       "      <th></th>\n",
       "      <th>brand</th>\n",
       "      <th>model</th>\n",
       "      <th>model_year</th>\n",
       "      <th>milage</th>\n",
       "      <th>fuel_type</th>\n",
       "      <th>engine</th>\n",
       "      <th>transmission</th>\n",
       "      <th>ext_col</th>\n",
       "      <th>int_col</th>\n",
       "      <th>accident</th>\n",
       "      <th>clean_title</th>\n",
       "    </tr>\n",
       "  </thead>\n",
       "  <tbody>\n",
       "    <tr>\n",
       "      <th>0</th>\n",
       "      <td>Mercedes-Benz</td>\n",
       "      <td>E-Class E 350</td>\n",
       "      <td>2014</td>\n",
       "      <td>73000</td>\n",
       "      <td>Gasoline</td>\n",
       "      <td>302.0HP 3.5L V6 Cylinder Engine Gasoline Fuel</td>\n",
       "      <td>A/T</td>\n",
       "      <td>White</td>\n",
       "      <td>Beige</td>\n",
       "      <td>None reported</td>\n",
       "      <td>Yes</td>\n",
       "    </tr>\n",
       "    <tr>\n",
       "      <th>1</th>\n",
       "      <td>Lexus</td>\n",
       "      <td>RX 350 Base</td>\n",
       "      <td>2015</td>\n",
       "      <td>128032</td>\n",
       "      <td>Gasoline</td>\n",
       "      <td>275.0HP 3.5L V6 Cylinder Engine Gasoline Fuel</td>\n",
       "      <td>8-Speed A/T</td>\n",
       "      <td>Silver</td>\n",
       "      <td>Black</td>\n",
       "      <td>None reported</td>\n",
       "      <td>Yes</td>\n",
       "    </tr>\n",
       "    <tr>\n",
       "      <th>2</th>\n",
       "      <td>Mercedes-Benz</td>\n",
       "      <td>C-Class C 300</td>\n",
       "      <td>2015</td>\n",
       "      <td>51983</td>\n",
       "      <td>Gasoline</td>\n",
       "      <td>241.0HP 2.0L 4 Cylinder Engine Gasoline Fuel</td>\n",
       "      <td>7-Speed A/T</td>\n",
       "      <td>Blue</td>\n",
       "      <td>White</td>\n",
       "      <td>None reported</td>\n",
       "      <td>Yes</td>\n",
       "    </tr>\n",
       "    <tr>\n",
       "      <th>3</th>\n",
       "      <td>Land</td>\n",
       "      <td>Rover Range Rover 5.0L Supercharged Autobiogra...</td>\n",
       "      <td>2018</td>\n",
       "      <td>29500</td>\n",
       "      <td>Gasoline</td>\n",
       "      <td>518.0HP 5.0L 8 Cylinder Engine Gasoline Fuel</td>\n",
       "      <td>Transmission w/Dual Shift Mode</td>\n",
       "      <td>White</td>\n",
       "      <td>White</td>\n",
       "      <td>At least 1 accident or damage reported</td>\n",
       "      <td>Yes</td>\n",
       "    </tr>\n",
       "    <tr>\n",
       "      <th>4</th>\n",
       "      <td>BMW</td>\n",
       "      <td>X6 xDrive40i</td>\n",
       "      <td>2020</td>\n",
       "      <td>90000</td>\n",
       "      <td>Gasoline</td>\n",
       "      <td>335.0HP 3.0L Straight 6 Cylinder Engine Gasoli...</td>\n",
       "      <td>8-Speed A/T</td>\n",
       "      <td>White</td>\n",
       "      <td>Black</td>\n",
       "      <td>At least 1 accident or damage reported</td>\n",
       "      <td>Yes</td>\n",
       "    </tr>\n",
       "  </tbody>\n",
       "</table>\n",
       "</div>"
      ],
      "text/plain": [
       "           brand                                              model  \\\n",
       "0  Mercedes-Benz                                      E-Class E 350   \n",
       "1          Lexus                                        RX 350 Base   \n",
       "2  Mercedes-Benz                                      C-Class C 300   \n",
       "3           Land  Rover Range Rover 5.0L Supercharged Autobiogra...   \n",
       "4            BMW                                       X6 xDrive40i   \n",
       "\n",
       "   model_year  milage fuel_type  \\\n",
       "0        2014   73000  Gasoline   \n",
       "1        2015  128032  Gasoline   \n",
       "2        2015   51983  Gasoline   \n",
       "3        2018   29500  Gasoline   \n",
       "4        2020   90000  Gasoline   \n",
       "\n",
       "                                              engine  \\\n",
       "0      302.0HP 3.5L V6 Cylinder Engine Gasoline Fuel   \n",
       "1      275.0HP 3.5L V6 Cylinder Engine Gasoline Fuel   \n",
       "2       241.0HP 2.0L 4 Cylinder Engine Gasoline Fuel   \n",
       "3       518.0HP 5.0L 8 Cylinder Engine Gasoline Fuel   \n",
       "4  335.0HP 3.0L Straight 6 Cylinder Engine Gasoli...   \n",
       "\n",
       "                     transmission ext_col int_col  \\\n",
       "0                             A/T   White   Beige   \n",
       "1                     8-Speed A/T  Silver   Black   \n",
       "2                     7-Speed A/T    Blue   White   \n",
       "3  Transmission w/Dual Shift Mode   White   White   \n",
       "4                     8-Speed A/T   White   Black   \n",
       "\n",
       "                                 accident clean_title  \n",
       "0                           None reported         Yes  \n",
       "1                           None reported         Yes  \n",
       "2                           None reported         Yes  \n",
       "3  At least 1 accident or damage reported         Yes  \n",
       "4  At least 1 accident or damage reported         Yes  "
      ]
     },
     "execution_count": 27,
     "metadata": {},
     "output_type": "execute_result"
    }
   ],
   "source": [
    "# ensure the columns are in the same order as the training data\n",
    "test_data =  test_data_orig[data.columns[:-1]]\n",
    "test_data.head()"
   ]
  },
  {
   "cell_type": "code",
   "execution_count": 28,
   "metadata": {},
   "outputs": [
    {
     "data": {
      "text/plain": [
       "{'brand': 'Mercedes-Benz',\n",
       " 'model': 'E-Class E 350',\n",
       " 'model_year': 2014,\n",
       " 'milage': 73000,\n",
       " 'fuel_type': 'Gasoline',\n",
       " 'engine': '302.0HP 3.5L V6 Cylinder Engine Gasoline Fuel',\n",
       " 'transmission': 'A/T',\n",
       " 'ext_col': 'White',\n",
       " 'int_col': 'Beige',\n",
       " 'accident': 'None reported',\n",
       " 'clean_title': 'Yes'}"
      ]
     },
     "execution_count": 28,
     "metadata": {},
     "output_type": "execute_result"
    }
   ],
   "source": [
    "# drop price column and map remaining columns to dictionary\n",
    "X_test = test_data.to_dict(orient='records')\n",
    "X_test[0]"
   ]
  },
  {
   "cell_type": "code",
   "execution_count": 29,
   "metadata": {},
   "outputs": [],
   "source": [
    "# load the preprocessor\n",
    "with open(\"./preprocessor.b\", \"rb\") as f_in:\n",
    "    dv = pickle.load(f_in)\n",
    "\n",
    "X_test = dv.transform(X_test)"
   ]
  },
  {
   "cell_type": "code",
   "execution_count": 30,
   "metadata": {},
   "outputs": [],
   "source": [
    "# predict the price\n",
    "y_pred_test = booster.predict(xgb.DMatrix(X_test))"
   ]
  },
  {
   "cell_type": "code",
   "execution_count": 31,
   "metadata": {},
   "outputs": [],
   "source": [
    "# append the predictions as price to the test data and save the id and price columns\n",
    "test_data_orig['price'] = y_pred_test"
   ]
  },
  {
   "cell_type": "code",
   "execution_count": 32,
   "metadata": {},
   "outputs": [],
   "source": [
    "# save the test data with the predictions as a csv file. add date to the filename\n",
    "test_data_orig[['id', 'price']].to_csv(f'../../data/expanded_xgboost_predictions_{pd.Timestamp.now()}.csv', index=False)"
   ]
  }
 ],
 "metadata": {
  "kernelspec": {
   "display_name": "ActiveLearn",
   "language": "python",
   "name": "python3"
  },
  "language_info": {
   "codemirror_mode": {
    "name": "ipython",
    "version": 3
   },
   "file_extension": ".py",
   "mimetype": "text/x-python",
   "name": "python",
   "nbconvert_exporter": "python",
   "pygments_lexer": "ipython3",
   "version": "3.9.19"
  }
 },
 "nbformat": 4,
 "nbformat_minor": 2
}
